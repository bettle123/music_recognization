{
 "cells": [
  {
   "cell_type": "code",
   "execution_count": 47,
   "metadata": {},
   "outputs": [
    {
     "data": {
      "text/plain": [
       "'\\n@Author: Su Ming Yi\\n@Date: 12/13/2018\\n@Goal: learn python syntax\\n'"
      ]
     },
     "execution_count": 47,
     "metadata": {},
     "output_type": "execute_result"
    }
   ],
   "source": [
    "'''\n",
    "@Author: Su Ming Yi\n",
    "@Date: 12/13/2018\n",
    "@Goal: learn python syntax\n",
    "'''"
   ]
  },
  {
   "cell_type": "code",
   "execution_count": 48,
   "metadata": {},
   "outputs": [],
   "source": [
    "import numpy as np\n",
    "import os\n",
    "import subprocess"
   ]
  },
  {
   "cell_type": "code",
   "execution_count": 49,
   "metadata": {},
   "outputs": [
    {
     "name": "stdout",
     "output_type": "stream",
     "text": [
      "Red\n",
      "Blue\n",
      "Green\n",
      "Black\n"
     ]
    }
   ],
   "source": [
    "# The list has four elements, indices start at 0 and end at 3\n",
    "color_list = [\"Red\", \"Blue\", \"Green\", \"Black\"]\n",
    "for c in color_list:\n",
    "        print(c)\n"
   ]
  },
  {
   "cell_type": "code",
   "execution_count": 50,
   "metadata": {},
   "outputs": [
    {
     "name": "stdout",
     "output_type": "stream",
     "text": [
      "Red\n",
      "Blue\n",
      "Green\n",
      "Black\n"
     ]
    }
   ],
   "source": [
    "for i in range(0, len(color_list)):\n",
    "    print(color_list[i])"
   ]
  },
  {
   "cell_type": "code",
   "execution_count": 51,
   "metadata": {},
   "outputs": [
    {
     "name": "stdout",
     "output_type": "stream",
     "text": [
      "nt\n",
      "C:\\Users\\san34\\Desktop\\2018_summer\\project\\music_simulation_software\\Scores\\src\n"
     ]
    },
    {
     "data": {
      "text/plain": [
       "0"
      ]
     },
     "execution_count": 51,
     "metadata": {},
     "output_type": "execute_result"
    }
   ],
   "source": [
    "print(os.name) \n",
    "print(os.getcwd()) \n",
    "os.system(r'C:\\MuseScore\\bin\\MuseScore.exe ../Process/data-output-final.musicxml -o ../Process/data-output-real-final.musicxml')\n"
   ]
  },
  {
   "cell_type": "code",
   "execution_count": 52,
   "metadata": {},
   "outputs": [
    {
     "name": "stdout",
     "output_type": "stream",
     "text": [
      "abe\n"
     ]
    }
   ],
   "source": [
    "#C:\\MuseScore\\bin\\MuseScore.exe\n",
    "# subprocess.run(['notepad.exe', 'test.txt'])\n",
    "# os.system(r'C:\\MuseScore\\bin\\MuseScore.exe ../Process/data-output-final.musicxml -o ../Process/data-output-real-final.musicxml')\n",
    "#subprocess.run(['MuseScore.exe'])\n",
    "\n",
    "#os.startfile('C:\\MuseScore\\bin\\MuseScore.exe')\n",
    "\n",
    "t = \"abc\"\n",
    "u = r\"abe\"\n",
    "print(u)"
   ]
  },
  {
   "cell_type": "code",
   "execution_count": 53,
   "metadata": {},
   "outputs": [
    {
     "name": "stdout",
     "output_type": "stream",
     "text": [
      "welcome\tto\tPython\n",
      "'welcome\\tto\\tPython'\n"
     ]
    }
   ],
   "source": [
    "\n",
    "\n",
    "s1 = \"welcome\\tto\\tPython\"\n",
    "print(s1)\n",
    "raw_s1 = \"%r\"%s1\n",
    "print(raw_s1)"
   ]
  },
  {
   "cell_type": "code",
   "execution_count": 55,
   "metadata": {},
   "outputs": [
    {
     "name": "stdout",
     "output_type": "stream",
     "text": [
      "'C:\\\\MuseScore\\\\bin\\\\MuseScore.exe ../Process/data-output-final.musicxml -o ../Process/data-output-real-final.musicxml'\n"
     ]
    }
   ],
   "source": [
    "\n",
    "str_command = 'C:\\MuseScore\\\\bin\\\\MuseScore.exe ../Process/data-output-final.musicxml -o ../Process/data-output-real-final.musicxml'\n",
    "raw_str_command = \"%r\"%str_command\n",
    "print(raw_str_command)\n"
   ]
  },
  {
   "cell_type": "code",
   "execution_count": 42,
   "metadata": {},
   "outputs": [
    {
     "name": "stdout",
     "output_type": "stream",
     "text": [
      "C:\\MuseScore\\bin\\MuseScore.exe ../Process/data-output-real-final.musicxml -o ../Output/1213.png\n"
     ]
    }
   ],
   "source": [
    "t = r'C:\\MuseScore\\bin\\MuseScore.exe ../Process/data-output-real-final.musicxml -o ../Output/1213.png'\n",
    "print(t)"
   ]
  },
  {
   "cell_type": "code",
   "execution_count": null,
   "metadata": {},
   "outputs": [],
   "source": []
  }
 ],
 "metadata": {
  "kernelspec": {
   "display_name": "Python 3",
   "language": "python",
   "name": "python3"
  },
  "language_info": {
   "codemirror_mode": {
    "name": "ipython",
    "version": 3
   },
   "file_extension": ".py",
   "mimetype": "text/x-python",
   "name": "python",
   "nbconvert_exporter": "python",
   "pygments_lexer": "ipython3",
   "version": "3.6.2"
  }
 },
 "nbformat": 4,
 "nbformat_minor": 2
}
