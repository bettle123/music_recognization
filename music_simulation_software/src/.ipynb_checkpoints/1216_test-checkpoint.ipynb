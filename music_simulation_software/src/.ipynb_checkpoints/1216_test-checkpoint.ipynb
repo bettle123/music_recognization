{
 "cells": [
  {
   "cell_type": "code",
   "execution_count": 6,
   "metadata": {},
   "outputs": [
    {
     "data": {
      "text/plain": [
       "'\\n@Author: Su Ming Yi\\n@Date: 12/16/2018\\n@Goal: load the images that I generate, check if it is correct\\n'"
      ]
     },
     "execution_count": 6,
     "metadata": {},
     "output_type": "execute_result"
    }
   ],
   "source": [
    "'''\n",
    "@Author: Su Ming Yi\n",
    "@Date: 12/16/2018\n",
    "@Goal: load the images that I generate, check if it is correct\n",
    "'''"
   ]
  },
  {
   "cell_type": "code",
   "execution_count": 7,
   "metadata": {},
   "outputs": [],
   "source": [
    "import numpy as np\n",
    "import cv2 as cv"
   ]
  },
  {
   "cell_type": "code",
   "execution_count": 9,
   "metadata": {},
   "outputs": [
    {
     "name": "stdout",
     "output_type": "stream",
     "text": [
      "None\n"
     ]
    },
    {
     "data": {
      "text/plain": [
       "'\\nk = cv.waitKey(0)\\nif k == 27:         # wait for ESC key to exit\\n    cv.destroyAllWindows()\\n'"
      ]
     },
     "execution_count": 9,
     "metadata": {},
     "output_type": "execute_result"
    }
   ],
   "source": [
    "filename = '..\\\\Output\\1213_Symbol\\\\musical_symbol_quarter_note\\\\l_0_250_0-1.png'\n",
    "image = cv.imread(filename)\n",
    "print(image)\n",
    "#cv.imshow('image',image)\n",
    "'''\n",
    "k = cv.waitKey(0)\n",
    "if k == 27:         # wait for ESC key to exit\n",
    "    cv.destroyAllWindows()\n",
    "'''"
   ]
  },
  {
   "cell_type": "code",
   "execution_count": null,
   "metadata": {},
   "outputs": [],
   "source": []
  }
 ],
 "metadata": {
  "kernelspec": {
   "display_name": "Python 3",
   "language": "python",
   "name": "python3"
  },
  "language_info": {
   "codemirror_mode": {
    "name": "ipython",
    "version": 3
   },
   "file_extension": ".py",
   "mimetype": "text/x-python",
   "name": "python",
   "nbconvert_exporter": "python",
   "pygments_lexer": "ipython3",
   "version": "3.6.2"
  }
 },
 "nbformat": 4,
 "nbformat_minor": 2
}
