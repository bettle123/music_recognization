{
 "cells": [
  {
   "cell_type": "code",
   "execution_count": 1,
   "metadata": {},
   "outputs": [
    {
     "data": {
      "text/plain": [
       "'\\n@Author: Su Ming Yi\\n@Date: 01/24/2019\\n@Goal: test plt.ylim([0.0, 1.05])\\n'"
      ]
     },
     "execution_count": 1,
     "metadata": {},
     "output_type": "execute_result"
    }
   ],
   "source": [
    "'''\n",
    "@Author: Su Ming Yi\n",
    "@Date: 01/24/2019\n",
    "@Goal: test plt.ylim([0.0, 1.05])\n",
    "'''\n"
   ]
  },
  {
   "cell_type": "code",
   "execution_count": 2,
   "metadata": {},
   "outputs": [],
   "source": [
    "import numpy as np\n",
    "import sys, os\n",
    "import pandas as pd\n",
    "import matplotlib.pyplot as plt"
   ]
  },
  {
   "cell_type": "code",
   "execution_count": 6,
   "metadata": {},
   "outputs": [
    {
     "data": {
      "image/png": "[encoded data removed]",
      "text/plain": [
       "<Figure size 432x288 with 1 Axes>"
      ]
     },
     "metadata": {},
     "output_type": "display_data"
    }
   ],
   "source": [
    "num_classes = 5;\n",
    "precision = [0.1, 0.2, 0.3, 0.4, 0.5];\n",
    "## draw precision barplot for every @per_train_report batches\n",
    "class_idx = [];\n",
    "for i in range(0, num_classes):\n",
    "    class_idx.append(i);\n",
    "plt.ylim([0.0, 1.0])\n",
    "plt.bar(class_idx, precision, align='center', alpha=0.5);\n",
    "plt.xlabel(\"class index\");\n",
    "plt.ylabel('Probability');\n",
    "    \n",
    "#title_name = \"batch_idx_\"+str(single_record[0]);\n",
    "#plt.title(title_name);\n",
    "#store_img = model_name+\"_batch_idx_\"+str(single_record[0])+\".png\";\n",
    "#plt.savefig(store_img);"
   ]
  },
  {
   "cell_type": "code",
   "execution_count": null,
   "metadata": {},
   "outputs": [],
   "source": []
  }
 ],
 "metadata": {
  "kernelspec": {
   "display_name": "Python 3",
   "language": "python",
   "name": "python3"
  },
  "language_info": {
   "codemirror_mode": {
    "name": "ipython",
    "version": 3
   },
   "file_extension": ".py",
   "mimetype": "text/x-python",
   "name": "python",
   "nbconvert_exporter": "python",
   "pygments_lexer": "ipython3",
   "version": "3.6.2"
  }
 },
 "nbformat": 4,
 "nbformat_minor": 2
}
