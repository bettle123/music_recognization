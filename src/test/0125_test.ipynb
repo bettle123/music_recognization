{
 "cells": [
  {
   "cell_type": "code",
   "execution_count": 1,
   "metadata": {},
   "outputs": [
    {
     "data": {
      "text/plain": [
       "'\\n@Author: Su, Ming Yi\\n@Date: 01/25/2019\\n@Goal: Learn how to calculate the wall time of a function\\n\\n'"
      ]
     },
     "execution_count": 1,
     "metadata": {},
     "output_type": "execute_result"
    }
   ],
   "source": [
    "'''\n",
    "@Author: Su, Ming Yi\n",
    "@Date: 01/25/2019\n",
    "@Goal: Learn how to calculate the wall time of a function\n",
    "\n",
    "'''"
   ]
  },
  {
   "cell_type": "code",
   "execution_count": 2,
   "metadata": {},
   "outputs": [],
   "source": [
    "import time"
   ]
  },
  {
   "cell_type": "code",
   "execution_count": 8,
   "metadata": {},
   "outputs": [
    {
     "name": "stdout",
     "output_type": "stream",
     "text": [
      "2.500552177429199 seconds wall time\n"
     ]
    }
   ],
   "source": [
    "def procedure():\n",
    "    time.sleep(2.5)\n",
    "\n",
    "# measure process time\n",
    "t0 = time.time()\n",
    "#procedure()\n",
    "#print(time.clock(), \"seconds process time\")\n",
    "\n",
    "# measure wall time\n",
    "t0 = time.time()\n",
    "procedure()\n",
    "t1 = time.time()\n",
    "print(t1 - t0, \"seconds wall time\")"
   ]
  },
  {
   "cell_type": "code",
   "execution_count": null,
   "metadata": {},
   "outputs": [],
   "source": []
  }
 ],
 "metadata": {
  "kernelspec": {
   "display_name": "Python 3",
   "language": "python",
   "name": "python3"
  },
  "language_info": {
   "codemirror_mode": {
    "name": "ipython",
    "version": 3
   },
   "file_extension": ".py",
   "mimetype": "text/x-python",
   "name": "python",
   "nbconvert_exporter": "python",
   "pygments_lexer": "ipython3",
   "version": "3.6.2"
  }
 },
 "nbformat": 4,
 "nbformat_minor": 2
}
