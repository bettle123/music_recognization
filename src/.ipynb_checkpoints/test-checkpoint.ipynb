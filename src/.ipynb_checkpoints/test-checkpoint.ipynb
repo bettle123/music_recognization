{
 "cells": [
  {
   "cell_type": "code",
   "execution_count": 27,
   "metadata": {},
   "outputs": [
    {
     "data": {
      "text/plain": [
       "'\\n@Author: Su Ming Yi\\n@Date: 12/12/2018\\n@Goal: test panda\\n'"
      ]
     },
     "execution_count": 27,
     "metadata": {},
     "output_type": "execute_result"
    }
   ],
   "source": [
    "'''\n",
    "@Author: Su Ming Yi\n",
    "@Date: 12/12/2018\n",
    "@Goal: test panda\n",
    "'''"
   ]
  },
  {
   "cell_type": "code",
   "execution_count": 28,
   "metadata": {},
   "outputs": [],
   "source": [
    "import pandas as pd\n",
    "import numpy as np"
   ]
  },
  {
   "cell_type": "code",
   "execution_count": 29,
   "metadata": {},
   "outputs": [
    {
     "name": "stdout",
     "output_type": "stream",
     "text": [
      "    line_0  line_1  line_2\n",
      "0        0     0.0     0.0\n",
      "1        4     2.0     2.0\n",
      "2        2     2.0     2.0\n",
      "3        2     2.0     2.0\n",
      "4        2     2.0     2.0\n",
      "5        2     4.0     4.0\n",
      "6        2     2.0     2.0\n",
      "7        2     2.0     2.0\n",
      "8        2     1.0     1.0\n",
      "9        1     4.0     2.0\n",
      "10       2     2.0     2.0\n",
      "11       2     2.0     2.0\n",
      "12       2     2.0     2.0\n",
      "13       2     2.0     2.0\n",
      "14       2     2.0     2.0\n",
      "15       2     2.0     2.0\n",
      "16       2     2.0     2.0\n",
      "17       2     1.0     1.0\n",
      "18       1     4.0     4.0\n",
      "19       4     NaN     NaN\n"
     ]
    }
   ],
   "source": [
    "true_label_file =\"../sample/true_label/7_true_label.csv\";\n",
    "df_true_label = pd.read_csv(true_label_file);\n",
    "print(df_true_label)"
   ]
  },
  {
   "cell_type": "code",
   "execution_count": 26,
   "metadata": {},
   "outputs": [
    {
     "name": "stdout",
     "output_type": "stream",
     "text": [
      "1\n",
      "(20, 3)\n"
     ]
    }
   ],
   "source": [
    "print(df_true_label.iloc[18,0])\n",
    "print(df_true_label.shape)"
   ]
  },
  {
   "cell_type": "code",
   "execution_count": 32,
   "metadata": {},
   "outputs": [
    {
     "data": {
      "text/plain": [
       "3"
      ]
     },
     "execution_count": 32,
     "metadata": {},
     "output_type": "execute_result"
    }
   ],
   "source": [
    "test = [1, 2, 0]\n",
    "sum(test)"
   ]
  },
  {
   "cell_type": "code",
   "execution_count": 45,
   "metadata": {},
   "outputs": [
    {
     "name": "stdout",
     "output_type": "stream",
     "text": [
      "a=1.3123123,b=2.12354\n",
      "a=1.31,b=2.12\n"
     ]
    }
   ],
   "source": [
    "a = 1.3123123\n",
    "b = 2.12354\n",
    "\n",
    "print(\"a={0},b={1}\".format(a, b))\n",
    "print(\"a={:.3},b={:.3}\".format(a, b))"
   ]
  },
  {
   "cell_type": "code",
   "execution_count": 46,
   "metadata": {},
   "outputs": [
    {
     "ename": "ValueError",
     "evalue": "Format specifier missing precision",
     "output_type": "error",
     "traceback": [
      "\u001b[1;31m---------------------------------------------------------------------------\u001b[0m",
      "\u001b[1;31mValueError\u001b[0m                                Traceback (most recent call last)",
      "\u001b[1;32m<ipython-input-46-65070632b54a>\u001b[0m in \u001b[0;36m<module>\u001b[1;34m()\u001b[0m\n\u001b[0;32m      1\u001b[0m \u001b[0mpoints\u001b[0m \u001b[1;33m=\u001b[0m \u001b[1;36m19.5\u001b[0m\u001b[1;33m\u001b[0m\u001b[0m\n\u001b[0;32m      2\u001b[0m \u001b[0mtotal\u001b[0m \u001b[1;33m=\u001b[0m \u001b[1;36m22\u001b[0m\u001b[1;33m\u001b[0m\u001b[0m\n\u001b[1;32m----> 3\u001b[1;33m \u001b[0mprint\u001b[0m\u001b[1;33m(\u001b[0m\u001b[1;34m'Correct answers: {:.%}'\u001b[0m\u001b[1;33m.\u001b[0m\u001b[0mformat\u001b[0m\u001b[1;33m(\u001b[0m\u001b[0mpoints\u001b[0m\u001b[1;33m/\u001b[0m\u001b[0mtotal\u001b[0m\u001b[1;33m)\u001b[0m\u001b[1;33m)\u001b[0m\u001b[1;33m\u001b[0m\u001b[0m\n\u001b[0m",
      "\u001b[1;31mValueError\u001b[0m: Format specifier missing precision"
     ]
    }
   ],
   "source": [
    "points = 19.5\n",
    "total = 22\n",
    "print('Correct answers: {:.0%}'.format(points/total))"
   ]
  },
  {
   "cell_type": "code",
   "execution_count": null,
   "metadata": {},
   "outputs": [],
   "source": []
  }
 ],
 "metadata": {
  "kernelspec": {
   "display_name": "Python 3",
   "language": "python",
   "name": "python3"
  },
  "language_info": {
   "codemirror_mode": {
    "name": "ipython",
    "version": 3
   },
   "file_extension": ".py",
   "mimetype": "text/x-python",
   "name": "python",
   "nbconvert_exporter": "python",
   "pygments_lexer": "ipython3",
   "version": "3.6.2"
  }
 },
 "nbformat": 4,
 "nbformat_minor": 2
}
