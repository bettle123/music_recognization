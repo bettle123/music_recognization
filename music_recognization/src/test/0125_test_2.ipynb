{
 "cells": [
  {
   "cell_type": "code",
   "execution_count": 1,
   "metadata": {},
   "outputs": [
    {
     "data": {
      "text/plain": [
       "'\\n@Author: Su Ming Yi\\n@Date: 01/25/2019\\n@Goal:\\n    learn how to draw many lines in one plot\\n\\n'"
      ]
     },
     "execution_count": 1,
     "metadata": {},
     "output_type": "execute_result"
    }
   ],
   "source": [
    "'''\n",
    "@Author: Su Ming Yi\n",
    "@Date: 01/25/2019\n",
    "@Goal:\n",
    "    learn how to draw many lines in one plot\n",
    "\n",
    "'''"
   ]
  },
  {
   "cell_type": "code",
   "execution_count": 2,
   "metadata": {},
   "outputs": [],
   "source": [
    "import numpy as np\n",
    "import sys, os\n",
    "import pandas as pd\n",
    "import matplotlib.pyplot as plt"
   ]
  },
  {
   "cell_type": "code",
   "execution_count": 23,
   "metadata": {},
   "outputs": [
    {
     "data": {
      "text/plain": [
       "<matplotlib.legend.Legend at 0x2217d80c7f0>"
      ]
     },
     "execution_count": 23,
     "metadata": {},
     "output_type": "execute_result"
    },
    {
     "data": {
      "image/png": "[encoded data removed]",
      "text/plain": [
       "<Figure size 432x288 with 1 Axes>"
      ]
     },
     "metadata": {},
     "output_type": "display_data"
    }
   ],
   "source": [
    "\n",
    "num_batch = [1, 2, 3, 4, 5];\n",
    "first_class_precision = [0.1, 0.2, 0.3, 0.4, 0.5];\n",
    "second_class_precision = [0.2, 0.3, 0.4, 0.5, 0.1];\n",
    "\n",
    "\n",
    "\n",
    "\n",
    "plt.figure(1)\n",
    "plt.ylim([0.0, 1.0])\n",
    "plt.plot(num_batch, first_class_precision, label=\"test1\");\n",
    "plt.plot(num_batch, second_class_precision, label=\"test2\");\n",
    "plt.xlabel('# of batch');\n",
    "#plt.title(\"first_class_precision\");\n",
    "# Place a legend to the right of this smaller subplot.\n",
    "plt.legend(loc=4, borderaxespad=0.)\n"
   ]
  },
  {
   "cell_type": "code",
   "execution_count": null,
   "metadata": {},
   "outputs": [],
   "source": []
  },
  {
   "cell_type": "code",
   "execution_count": null,
   "metadata": {},
   "outputs": [],
   "source": []
  }
 ],
 "metadata": {
  "kernelspec": {
   "display_name": "Python 3",
   "language": "python",
   "name": "python3"
  },
  "language_info": {
   "codemirror_mode": {
    "name": "ipython",
    "version": 3
   },
   "file_extension": ".py",
   "mimetype": "text/x-python",
   "name": "python",
   "nbconvert_exporter": "python",
   "pygments_lexer": "ipython3",
   "version": "3.6.2"
  }
 },
 "nbformat": 4,
 "nbformat_minor": 2
}
